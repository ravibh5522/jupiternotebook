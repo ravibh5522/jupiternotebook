{
  "metadata": {
    "kernelspec": {
      "name": "python",
      "display_name": "Pyolite",
      "language": "python"
    },
    "language_info": {
      "codemirror_mode": {
        "name": "python",
        "version": 3
      },
      "file_extension": ".py",
      "mimetype": "text/x-python",
      "name": "python",
      "nbconvert_exporter": "python",
      "pygments_lexer": "ipython3",
      "version": "3.8"
    }
  },
  "nbformat_minor": 4,
  "nbformat": 4,
  "cells": [
    {
      "cell_type": "markdown",
      "source": "<center>\n    <img src=\"https://cf-courses-data.s3.us.cloud-object-storage.appdomain.cloud/IBMDeveloperSkillsNetwork-DS0105EN-SkillsNetwork/labs/Module2/images/SN_web_lightmode.png\" width=\"300\" alt=\"cognitiveclass.ai logo\">\n</center>\n",
      "metadata": {}
    },
    {
      "cell_type": "markdown",
      "source": "#### Add your code below following the instructions given in the course\n",
      "metadata": {}
    },
    {
      "cell_type": "markdown",
      "source": "## Popular Data Science Languages\n\nData science is a rapidly evolving field that requires proficiency in multiple programming languages. Here are some of the most popular languages used by data scientists:\n\n1. Python\n2. R\n3. SQL\n4. Java\n5. Scala\n6. MATLAB\n7. SAS\n8. Julia\n9. JavaScript\n10. C++\n\nPython is by far the most widely used language in data science, thanks to its ease of use and vast library of data analysis tools. However, depending on the specific requirements of your project, any of these languages could be a valuable tool for a data scientist.\n",
      "metadata": {}
    },
    {
      "cell_type": "markdown",
      "source": "## Popular Data Science Libraries\n\nData science libraries are essential tools for any data scientist. They provide pre-built functions and algorithms to help with common tasks such as data cleaning, visualization, and machine learning. Here are some of the most popular data science libraries used by data scientists:\n\n1. NumPy - A library for working with arrays and matrices, and performing mathematical operations.\n2. Pandas - A library for data manipulation and analysis.\n3. Matplotlib - A library for creating visualizations and plots.\n4. Seaborn - A library for creating more advanced statistical visualizations.\n5. Scikit-learn - A library for machine learning, including classification, regression, and clustering algorithms.\n6. TensorFlow - A library for building and training deep learning models.\n7. PyTorch - Another popular deep learning library, developed by Facebook.\n8. Keras - A high-level neural networks API that can run on top of TensorFlow, Theano, or CNTK.\n\n",
      "metadata": {}
    },
    {
      "cell_type": "markdown",
      "source": "## Data Science Tools\n\n| Tool        | Description           | Language  |\n| ------------- |:-------------:| -----:|\n| Jupyter Notebook      | An open-source web application that allows you to create and share documents that contain live code, equations, visualizations, and narrative text. | Python |\n| RStudio     | An integrated development environment (IDE) for R, a programming language for statistical computing and graphics.      |   R |\n| Tableau | A data visualization tool that allows users to connect, visualize, and share data in a way that provides insights and promotes collaboration.      |    Multiple |\n| Apache Hadoop | An open-source software framework used to store and process large datasets across distributed computing clusters.      |    Java |\n| Apache Spark | An open-source unified analytics engine for large-scale data processing. It can run batch processing, stream processing, machine learning, and graph processing workloads.      |    Scala |\n| GitHub | A web-based hosting service for version control using Git. It is mostly used for code.      |    Multiple |\n| Anaconda | A distribution of Python and R programming languages for scientific computing, that aims to simplify package management and deployment.      |    Python, R |\n| Apache Kafka | An open-source distributed event streaming platform used for high-performance data pipelines, streaming analytics, data integration, and mission-critical applications.      |    Java |\n\nThis table provides a brief overview of some popular data science tools. Depending on your specific needs and goals, other tools may be more appropriate.\n",
      "metadata": {}
    },
    {
      "cell_type": "markdown",
      "source": "## Arithmetic Expression Examples\n\nArithmetic expressions are mathematical operations that involve numbers and operators. They can be used to perform basic calculations and complex computations. Here are some examples of arithmetic expressions:\n\n- Addition: 2 + 3 = 5\n- Subtraction: 10 - 5 = 5\n- Multiplication: 4 * 5 = 20\n- Division: 10 / 2 = 5\n- Exponentiation: 2 ** 3 = 8 (2 to the power of 3)\n- Modulo: 7 % 3 = 1 (remainder of 7 divided by 3)\n\nArithmetic expressions are used in programming to perform a wide range of operations, from simple math calculations to complex algorithms. In Jupyter Notebook, you can easily create and evaluate arithmetic expressions in code cells using Python or other programming languages.\n",
      "metadata": {}
    },
    {
      "cell_type": "code",
      "source": "# Multiply and add numbers\nx = 5\ny = 10\nz = x * y + 3\nprint(z)\n",
      "metadata": {},
      "execution_count": null,
      "outputs": []
    },
    {
      "cell_type": "code",
      "source": "# Convert minutes to hours\nminutes = 120\nhours = minutes / 60\nprint(hours)\n",
      "metadata": {},
      "execution_count": null,
      "outputs": []
    },
    {
      "cell_type": "markdown",
      "source": "## Benefits of Regular Exercise\n\nRegular exercise has many benefits for both physical and mental health. Here are some of the benefits of regular exercise:\n\n- Reduces the risk of chronic diseases such as heart disease, diabetes, and certain cancers.\n- Helps maintain a healthy weight and body composition.\n- Improves cardiovascular and respiratory health.\n- Enhances muscle strength and endurance.\n- Improves flexibility and balance.\n- Boosts mood and mental health by reducing stress and anxiety.\n- Impro\n",
      "metadata": {}
    },
    {
      "cell_type": "markdown",
      "source": "## Introduction\n\nHello and welcome to my Jupyter Notebook! My name is John Doe and I am a data scientist with over 5 years of experience in the field. In this notebook, I will be sharing some of my insights and knowledge about data science.\n\n",
      "metadata": {}
    }
  ]
}